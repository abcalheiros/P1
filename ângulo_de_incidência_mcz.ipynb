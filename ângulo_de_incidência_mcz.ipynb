{
  "nbformat": 4,
  "nbformat_minor": 0,
  "metadata": {
    "colab": {
      "provenance": [],
      "authorship_tag": "ABX9TyMRzJt31ES0kLfpIgyN2Jox",
      "include_colab_link": true
    },
    "kernelspec": {
      "name": "python3",
      "display_name": "Python 3"
    },
    "language_info": {
      "name": "python"
    }
  },
  "cells": [
    {
      "cell_type": "markdown",
      "metadata": {
        "id": "view-in-github",
        "colab_type": "text"
      },
      "source": [
        "<a href=\"https://colab.research.google.com/github/abcalheiros/P1/blob/main/%C3%A2ngulo_de_incid%C3%AAncia_mcz.ipynb\" target=\"_parent\"><img src=\"https://colab.research.google.com/assets/colab-badge.svg\" alt=\"Open In Colab\"/></a>"
      ]
    },
    {
      "cell_type": "code",
      "execution_count": 6,
      "metadata": {
        "colab": {
          "base_uri": "https://localhost:8080/"
        },
        "id": "GUAv9XGDkon8",
        "outputId": "a6e57c24-25fd-46bf-da3a-6f9f91cad5d4"
      },
      "outputs": [
        {
          "output_type": "stream",
          "name": "stdout",
          "text": [
            " Arquivo 'angulos_incidencia_maceio.csv' gerado com sucesso!\n"
          ]
        }
      ],
      "source": [
        "#obs.: criado com IA\n",
        "\n",
        "import math\n",
        "import csv\n",
        "\n",
        "#aplicando a fórmula do ângulo de incidência\n",
        "\n",
        "latitude = -9.66       # graus (Maceió)\n",
        "declinacao = -23.44    # graus (dia 172 — 21/06/2025)\n",
        "inclinacao = 6      # exemplo: inclinação do painel (β)\n",
        "azimute = 0.0          # azimute do painel (γ) — 0 = norte\n",
        "n_minutos = 693        # 05:38 → 17:11\n",
        "angulo_nascer = -85.76 # ângulo horário nascer do sol (graus)\n",
        "angulo_pordosol = 85.76\n",
        "passo = (angulo_pordosol - angulo_nascer) / n_minutos\n",
        "arquivo_saida = \"angulos_incidencia_maceio.csv\"\n",
        "\n",
        "def rad(g):\n",
        "    return math.radians(g)\n",
        "\n",
        "with open(arquivo_saida, \"w\", newline=\"\", encoding=\"utf-8\") as csvfile:\n",
        "    writer = csv.writer(csvfile)\n",
        "    writer.writerow([\n",
        "        \"Minuto\", \"Ângulo_Horário(ω)\", \"Declinação(δ)\",\n",
        "        \"Latitude(φ)\", \"Inclinação(β)\", \"Azimute(γ)\", \"Ângulo_de_Incidência(θi)\"\n",
        "    ])\n",
        "\n",
        "    for minuto in range(n_minutos + 1):\n",
        "        omega = angulo_nascer + minuto * passo  # varre de -85.76° até +85.76°\n",
        "\n",
        "        cos_teta_i = (\n",
        "            math.sin(rad(declinacao)) * math.sin(rad(latitude)) * math.cos(rad(inclinacao))\n",
        "            - math.sin(rad(declinacao)) * math.cos(rad(latitude)) * math.sin(rad(inclinacao)) * math.cos(rad(azimute))\n",
        "            + math.cos(rad(declinacao)) * math.cos(rad(latitude)) * math.cos(rad(inclinacao)) * math.cos(rad(omega))\n",
        "            + math.cos(rad(declinacao)) * math.sin(rad(latitude)) * math.sin(rad(inclinacao)) * math.cos(rad(azimute)) * math.cos(rad(omega))\n",
        "            + math.cos(rad(declinacao)) * math.sin(rad(inclinacao)) * math.sin(rad(azimute)) * math.sin(rad(omega))\n",
        "        )\n",
        "\n",
        "        cos_teta_i = max(min(cos_teta_i, 1), -1)\n",
        "        teta_i = math.degrees(math.acos(cos_teta_i))\n",
        "\n",
        "        writer.writerow([\n",
        "            minuto, round(omega, 2), round(declinacao, 2), round(latitude, 2),\n",
        "            round(inclinacao, 2), round(azimute, 2), round(teta_i, 3)\n",
        "        ])\n",
        "\n",
        "print(f\" Arquivo '{arquivo_saida}' gerado com sucesso!\")\n"
      ]
    },
    {
      "cell_type": "code",
      "source": [
        "#Esse código calcula o ângulo de incidência para os parâmetros fixos exceto o ângulo horário!"
      ],
      "metadata": {
        "id": "EogYiotR1qwb"
      },
      "execution_count": 7,
      "outputs": []
    }
  ]
}